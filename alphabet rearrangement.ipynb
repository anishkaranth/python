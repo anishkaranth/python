{
 "cells": [
  {
   "cell_type": "code",
   "execution_count": 4,
   "id": "ac66b66a",
   "metadata": {},
   "outputs": [],
   "source": [
    "def sort_and_store(text, filename):\n",
    "    # Split the text into a list of words\n",
    "    words = text.split()  \n",
    "    unique_words = set(words)\n",
    "    sorted_words = sorted(unique_words)\n",
    "    with open(filename, \"w\") as f:\n",
    "        for word in sorted_words:\n",
    "            f.write(word + \"\\n\")\n",
    "text = \"The color of animals is by no means a matter of chance; it depends on many considerations, but in the majority of cases tends to protect the animal from danger by rendering it less conspicuous. Perhaps it may be said that if coloring is mainly protective, there ought to be but few brightly colored animals. There are, however, not a few cases in which vivid colors are themselves protective. The kingfisher itself, though so brightly colored, is by no means easy to see. The blue harmonizes with the water, and the bird as it darts along the stream looks almost like a flash of sunlight.\"\n",
    "sort_and_store(text, \"sorted_passage1.txt\")"
   ]
  },
  {
   "cell_type": "code",
   "execution_count": 12,
   "id": "2f62f079",
   "metadata": {},
   "outputs": [
    {
     "ename": "IndentationError",
     "evalue": "unexpected indent (Temp/ipykernel_11252/1382587928.py, line 12)",
     "output_type": "error",
     "traceback": [
      "\u001b[1;36m  File \u001b[1;32m\"C:\\Users\\HP\\AppData\\Local\\Temp/ipykernel_11252/1382587928.py\"\u001b[1;36m, line \u001b[1;32m12\u001b[0m\n\u001b[1;33m    output_filename = \"sorted_\" + filename\u001b[0m\n\u001b[1;37m    ^\u001b[0m\n\u001b[1;31mIndentationError\u001b[0m\u001b[1;31m:\u001b[0m unexpected indent\n"
     ]
    }
   ],
   "source": [
    "import os\n",
    "\n",
    "def sort_and_store_all(directory):\n",
    "    filenames = os.listdir(directory)\n",
    "\n",
    "   \n",
    "    for filename in filenames:\n",
    "        filepath = os.path.join(directory, filename)\n",
    "        if filename.endswith(\".txt\"):\n",
    "            with open(filepath, \"r\") as f:\n",
    "                text = f.read()\n",
    "                    output_filename = \"sorted_\" + filename\n",
    "sort_and_store(text, output_filename)\n",
    "\n",
    "sort_and_store_all(\"C:/Users/HP/Desktop/project\")\n"
   ]
  },
  {
   "cell_type": "code",
   "execution_count": 13,
   "id": "cdb5dfd1",
   "metadata": {},
   "outputs": [
    {
     "ename": "IndentationError",
     "evalue": "expected an indented block (Temp/ipykernel_11252/2329382831.py, line 12)",
     "output_type": "error",
     "traceback": [
      "\u001b[1;36m  File \u001b[1;32m\"C:\\Users\\HP\\AppData\\Local\\Temp/ipykernel_11252/2329382831.py\"\u001b[1;36m, line \u001b[1;32m12\u001b[0m\n\u001b[1;33m    \u001b[0m\n\u001b[1;37m    ^\u001b[0m\n\u001b[1;31mIndentationError\u001b[0m\u001b[1;31m:\u001b[0m expected an indented block\n"
     ]
    }
   ],
   "source": [
    "import os\n",
    "\n",
    "def merge_sorted_files(directory, output_filename):\n",
    "    # Open the output file for writing\n",
    "    with open(output_filename, \"w\") as f_out:\n",
    "        # Get a list of all the files in the directory\n",
    "        filenames = os.listdir(directory)\n",
    "\n",
    "        # Iterate through the list of filenames\n",
    "        for filename in filenames:\n",
    "            # Check if the file is a sorted file\n",
    "           \n"
   ]
  },
  {
   "cell_type": "code",
   "execution_count": null,
   "id": "cfe62a4e",
   "metadata": {},
   "outputs": [],
   "source": []
  }
 ],
 "metadata": {
  "kernelspec": {
   "display_name": "Python 3 (ipykernel)",
   "language": "python",
   "name": "python3"
  },
  "language_info": {
   "codemirror_mode": {
    "name": "ipython",
    "version": 3
   },
   "file_extension": ".py",
   "mimetype": "text/x-python",
   "name": "python",
   "nbconvert_exporter": "python",
   "pygments_lexer": "ipython3",
   "version": "3.9.7"
  }
 },
 "nbformat": 4,
 "nbformat_minor": 5
}
