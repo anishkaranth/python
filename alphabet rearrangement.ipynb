{
 "cells": [
  {
   "cell_type": "code",
   "execution_count": 4,
   "id": "bf1d68e3",
   "metadata": {},
   "outputs": [],
   "source": [
    "def sort_and_store(text, filename):\n",
    "    # Split the text into a list of words\n",
    "    words = text.split()  \n",
    "    unique_words = set(words)\n",
    "    sorted_words = sorted(unique_words)\n",
    "    with open(filename, \"w\") as f:\n",
    "        for word in sorted_words:\n",
    "            f.write(word + \"\\n\")\n",
    "text = \"The color of animals is by no means a matter of chance; it depends on many considerations, but in the majority of cases tends to protect the animal from danger by rendering it less conspicuous. Perhaps it may be said that if coloring is mainly protective, there ought to be but few brightly colored animals. There are, however, not a few cases in which vivid colors are themselves protective. The kingfisher itself, though so brightly colored, is by no means easy to see. The blue harmonizes with the water, and the bird as it darts along the stream looks almost like a flash of sunlight.\"\n",
    "sort_and_store(text, \"sorted_passage1.txt\")"
   ]
  },
  {
   "cell_type": "code",
   "execution_count": null,
   "id": "9207f484",
   "metadata": {},
   "outputs": [],
   "source": []
  }
 ],
 "metadata": {
  "kernelspec": {
   "display_name": "Python 3 (ipykernel)",
   "language": "python",
   "name": "python3"
  },
  "language_info": {
   "codemirror_mode": {
    "name": "ipython",
    "version": 3
   },
   "file_extension": ".py",
   "mimetype": "text/x-python",
   "name": "python",
   "nbconvert_exporter": "python",
   "pygments_lexer": "ipython3",
   "version": "3.9.7"
  }
 },
 "nbformat": 4,
 "nbformat_minor": 5
}
