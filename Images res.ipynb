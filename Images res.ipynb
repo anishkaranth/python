{
 "cells": [
  {
   "cell_type": "code",
   "execution_count": null,
   "id": "af64edb3",
   "metadata": {},
   "outputs": [],
   "source": [
    "filename = \"image.jpg\"\n",
    "\n",
    "with open(filename, 'rb') as img_file:\n",
    "    img_file.seek(163)\n",
    "    a = img_file.read(2)\n",
    "    height = (a[0] << 8) + a[1]\n",
    "    a = img_file.read(2)\n",
    "    width = (a[0] << 8) + a[1]\n",
    "\n",
    "print(f\"Resolution: {width}x{height}\")"
   ]
  }
 ],
 "metadata": {
  "kernelspec": {
   "display_name": "Python 3 (ipykernel)",
   "language": "python",
   "name": "python3"
  },
  "language_info": {
   "codemirror_mode": {
    "name": "ipython",
    "version": 3
   },
   "file_extension": ".py",
   "mimetype": "text/x-python",
   "name": "python",
   "nbconvert_exporter": "python",
   "pygments_lexer": "ipython3",
   "version": "3.9.7"
  }
 },
 "nbformat": 4,
 "nbformat_minor": 5
}
