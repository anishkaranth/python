{
 "cells": [
  {
   "cell_type": "code",
   "execution_count": 1,
   "id": "16dec1bf",
   "metadata": {},
   "outputs": [],
   "source": [
    "##Remove special characters from a string"
   ]
  },
  {
   "cell_type": "code",
   "execution_count": 2,
   "id": "46bb630e",
   "metadata": {},
   "outputs": [
    {
     "name": "stdout",
     "output_type": "stream",
     "text": [
      "Input a string: \"How are you ? Oh my God, you are bleeding! Let us go to the doctor quickly.\"\n",
      "Original String : \"How are you ? Oh my God, you are bleeding! Let us go to the doctor quickly.\"\n",
      "new string is: \"How are you  Oh my God you are bleeding Let us go to the doctor quickly.\"\n"
     ]
    }
   ],
   "source": [
    "special_char = [';', ':', '!', '*','?','/','~',',']\n",
    "input_char = str(input(\"Input a string: \"))\n",
    "print (\"Original String : \" + input_char)\n",
    "\n",
    "s=\"\"\n",
    "for i in input_char:\n",
    "    if i not in special_char:\n",
    "        s+=i\n",
    "\n",
    "print (\"new string is: \" + str(s))\n"
   ]
  }
 ],
 "metadata": {
  "kernelspec": {
   "display_name": "Python 3 (ipykernel)",
   "language": "python",
   "name": "python3"
  },
  "language_info": {
   "codemirror_mode": {
    "name": "ipython",
    "version": 3
   },
   "file_extension": ".py",
   "mimetype": "text/x-python",
   "name": "python",
   "nbconvert_exporter": "python",
   "pygments_lexer": "ipython3",
   "version": "3.9.7"
  }
 },
 "nbformat": 4,
 "nbformat_minor": 5
}
