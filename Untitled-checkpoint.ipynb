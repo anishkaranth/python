{
 "cells": [
  {
   "cell_type": "code",
   "execution_count": 1,
   "id": "1a90caf6",
   "metadata": {},
   "outputs": [],
   "source": [
    "#angle between hour and min hand"
   ]
  },
  {
   "cell_type": "code",
   "execution_count": 2,
   "id": "e7b77ffe",
   "metadata": {},
   "outputs": [
    {
     "name": "stdout",
     "output_type": "stream",
     "text": [
      "Input a hour: 12\n",
      "Input a minute: 30\n",
      "<function angle at 0x00000192FBB0FF70>\n"
     ]
    }
   ],
   "source": [
    "def angle(hh, mh):\n",
    " \n",
    "    # handle 24-hour notation\n",
    "    hh = hh % 12\n",
    " \n",
    "    # find the position of the hour's hand\n",
    "    h = (hh * 360) // 12 + (mh * 360) // (12 * 60)\n",
    " \n",
    "    #angle of min hand\n",
    "    m = (mh * 360) // (60)\n",
    " \n",
    "    # calculate the angle difference\n",
    "    angle = abs(h - m)\n",
    " \n",
    "    # consider the shorter angle and return it\n",
    "    if angle > 180:\n",
    "        angle = 360 - angle\n",
    " \n",
    "    return angle\n",
    "\n",
    "\n",
    "\n",
    "hh = int(input(\"Input a hour: \"))\n",
    "mh = int(input(\"Input a minute: \"))\n",
    "print (angle)"
   ]
  },
  {
   "cell_type": "code",
   "execution_count": null,
   "id": "fda6aa30",
   "metadata": {},
   "outputs": [],
   "source": []
  }
 ],
 "metadata": {
  "kernelspec": {
   "display_name": "Python 3 (ipykernel)",
   "language": "python",
   "name": "python3"
  },
  "language_info": {
   "codemirror_mode": {
    "name": "ipython",
    "version": 3
   },
   "file_extension": ".py",
   "mimetype": "text/x-python",
   "name": "python",
   "nbconvert_exporter": "python",
   "pygments_lexer": "ipython3",
   "version": "3.9.7"
  }
 },
 "nbformat": 4,
 "nbformat_minor": 5
}
